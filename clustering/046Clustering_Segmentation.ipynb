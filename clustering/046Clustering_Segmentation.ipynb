{
 "cells": [
  {
   "cell_type": "markdown",
   "metadata": {},
   "source": [
    "## Image segmentation\n",
    "\n",
    "Clustering is commonly used for image segmentation. The goal of image segmentation is to divide the image into similar regions. Usually it's done by finding the most similar colors - grouping colors used in image into clusters. In the example below we implement two classes: ``ImageConversion`` and ``Segmentation``.\n",
    "\n",
    "Before we go to the implementation part, we need to import several packages. We use the same that are used in the hard k-means example like numpy and math for calculation. The random package is used for intializing random centers and math is used for the Euclidean distance. \n"
   ]
  },
  {
   "cell_type": "code",
   "execution_count": 1,
   "metadata": {},
   "outputs": [],
   "source": [
    "import numpy\n",
    "import random\n",
    "import math\n",
    "import matplotlib.image as img\n",
    "from PIL import Image\n",
    "\n",
    "from matplotlib import pyplot\n",
    "from mpl_toolkits.mplot3d import Axes3D"
   ]
  },
  {
   "cell_type": "markdown",
   "metadata": {},
   "source": [
    "The ``ImageConersion`` class has three methods:\n",
    "- ``get_image_from_url`` - load the image,\n",
    "- ``get_unique_colours`` - find all unique colors in an image,\n",
    "- ``save_image`` - save the segmented image.\n",
    "\n",
    "We get all unique colors because of performance reasons."
   ]
  },
  {
   "cell_type": "code",
   "execution_count": 2,
   "metadata": {},
   "outputs": [],
   "source": [
    "class ImageConversion:\n",
    "\n",
    "    def get_image_from_url(self, img_url):\n",
    "        image = open(img_url,'rb')\n",
    "        return img.imread(image)\n",
    "\n",
    "    def get_unique_colours(self, image_matrix):\n",
    "        feature_matrix = []\n",
    "        for i in range(len(image_matrix)):\n",
    "            for j in range(len(image_matrix[0])):\n",
    "                feature_matrix.append(image_matrix[i, j])\n",
    "        feature_matrix_np = numpy.array(feature_matrix)\n",
    "        uniques, index = numpy.unique([str(i) for i in feature_matrix_np], return_index=True)\n",
    "        return feature_matrix_np[index], feature_matrix\n",
    "\n",
    "    def save_image(self, size, pixel_matrix, unique_matrix, assignation_matrix, colours, output):\n",
    "        image_out = Image.new(\"RGB\", size)\n",
    "        pixels = []\n",
    "        for i in range(len(pixel_matrix)):\n",
    "            pixel_list = pixel_matrix[i].tolist()\n",
    "            for j in range(len(unique_matrix)):\n",
    "                if(pixel_list == unique_matrix[j].tolist()):\n",
    "                    for k in range(len(colours)):\n",
    "                        if assignation_matrix[j][k] == 1:\n",
    "                            segmented_colours=[int(i) for i in (colours[k]*255)]\n",
    "                            pixels.append(tuple(segmented_colours))\n",
    "        image_out.putdata(pixels)\n",
    "        image_out.save(output)"
   ]
  },
  {
   "cell_type": "markdown",
   "metadata": {},
   "source": [
    "The ``Segmentation`` class has the same methods as hard k-means. The assignation matrix is related to the number of unique colors in the image. Centers are set in the RGB color space. "
   ]
  },
  {
   "cell_type": "code",
   "execution_count": 3,
   "metadata": {},
   "outputs": [],
   "source": [
    "class Segmentation:\n",
    "\n",
    "    def __init__(self, feature_matrix, groups):\n",
    "        self.__data_set = feature_matrix\n",
    "        self.__groups = groups\n",
    "        self.__space=[[0, 255], [0, 255], [0, 255]]\n",
    "        self.__error_margin = 0.5\n",
    "        self.assignation = numpy.zeros((len(self.__data_set), self.__groups))\n",
    "        self.centers = []\n",
    "        self.select_centers()\n",
    "\n",
    "    def select_centers(self):\n",
    "        if len(self.centers) == 0:\n",
    "            iter=0\n",
    "            while iter<self.__groups:\n",
    "                self.centers.append(((random.randrange(0, 255)*1.0/255),\n",
    "                                     (random.randrange(0, 255)*1.0/255),\n",
    "                                     (random.randrange(0, 255)*1.0/255)))\n",
    "                iter=iter+1\n",
    "\n",
    "    def calculate_distance(self, x, v):\n",
    "        return math.sqrt((x[0]-v[0])**2+(x[1]-v[1])**2+(x[2]-v[2])**2)\n",
    "\n",
    "    def calculate_u(self, x, i):\n",
    "        smallest_distance = float(self.calculate_distance(x, self.centers[0]))\n",
    "        smallest_id = 0\n",
    "        for i in range(1, self.__groups):\n",
    "            distance = self.calculate_distance(x, self.centers[i])\n",
    "            if distance < smallest_distance:\n",
    "                smallest_id = i\n",
    "                smallest_distance = distance\n",
    "        distance = numpy.zeros(self.__groups)\n",
    "        distance[smallest_id]=1\n",
    "        return distance\n",
    "\n",
    "    def calculate_new_centers(self, u):\n",
    "        new_centers=[]\n",
    "        for c in range(self.__groups):\n",
    "            u_x_vector = numpy.zeros(len(self.centers[0]))\n",
    "            u_scalar = 0\n",
    "            for i in range(len(u)):\n",
    "                u_scalar = u_scalar + u[i][c]\n",
    "                u_x_vector = numpy.add(u_x_vector, numpy.multiply(u[i][c], self.__data_set[i]))\n",
    "            new_centers.append(numpy.divide(u_x_vector,u_scalar))\n",
    "        print(new_centers)\n",
    "        self.centers = new_centers\n",
    "\n",
    "    def calculate_differences(self,new_assignation):\n",
    "        diff=0\n",
    "        for i in range(len(self.assignation)):\n",
    "            for j in range(self.__groups):\n",
    "                diff = diff + abs(float(new_assignation[i][j]) - float(self.assignation[i][j]))\n",
    "        return diff\n",
    "\n",
    "    def do_segmentation(self):\n",
    "        difference_limit_not_achieved = True\n",
    "        iter = 0\n",
    "        while difference_limit_not_achieved:\n",
    "            new_assignation = []\n",
    "            for i in range(len(self.__data_set)):\n",
    "                new_assignation.append(self.calculate_u(self.__data_set[i], iter))\n",
    "            self.calculate_new_centers(new_assignation)\n",
    "\n",
    "            if iter > 0:\n",
    "                if self.calculate_differences(new_assignation) < self.__error_margin:\n",
    "                    difference_limit_not_achieved=False\n",
    "            self.assignation = new_assignation\n",
    "            iter = iter + 1\n",
    "\n",
    "    def get_results(self):\n",
    "        return self.centers, self.assignation"
   ]
  },
  {
   "cell_type": "markdown",
   "metadata": {},
   "source": [
    "Finally, we can use it with clustering for image segmentation.  In the first place we load the image and get the list of unique colors. Next, we set the number of clusters (``groups``). The segmentation part takes the unique colors, put it into a three-dimensional space and find centers of three clusters. It returns the assignation matrix with a cluster id assgined to each color. The image is saved based on the colors of centers assigned to each colors. Each pixel of a given color is replaced with the colors of the center of assigned cluster. "
   ]
  },
  {
   "cell_type": "code",
   "execution_count": 5,
   "metadata": {},
   "outputs": [
    {
     "name": "stdout",
     "output_type": "stream",
     "text": [
      "[array([0.19311335, 0.43213774, 0.64615019]), array([0.97864924, 0.79012347, 0.05141612]), array([0.73031881, 0.77791118, 0.78439376])]\n",
      "[array([0.23189813, 0.45554883, 0.65308269]), array([0.899695  , 0.74501091, 0.13315904]), array([0.75995873, 0.81936706, 0.88015136])]\n",
      "[array([0.25253423, 0.46903442, 0.66211618]), array([0.87113726, 0.73003923, 0.15733334]), array([0.79290197, 0.84901962, 0.91627451])]\n",
      "[array([0.26139038, 0.47568629, 0.667451  ]), array([0.87113726, 0.73003923, 0.15733334]), array([0.80526962, 0.8572304 , 0.92075164])]\n",
      "[array([0.26139038, 0.47568629, 0.667451  ]), array([0.87113726, 0.73003923, 0.15733334]), array([0.80526962, 0.8572304 , 0.92075164])]\n"
     ]
    }
   ],
   "source": [
    "image_to_segment = \"./../images/logo_krakow.png\"\n",
    "image_converter = ImageConversion()\n",
    "image_data = image_converter.get_image_from_url(image_to_segment)\n",
    "unique_image_data, image_data_list = image_converter.get_unique_colours(image_data)\n",
    "\n",
    "groups = 3\n",
    "\n",
    "if image_data.shape[2] > 3:\n",
    "    image_data = image_data[:,:,[0,1,2]]\n",
    "    unique_image_data = unique_image_data[:,[0,1,2]]\n",
    "    image_data_list = numpy.array(image_data_list)[:,[0,1,2]]\n",
    "\n",
    "segmentation = Segmentation(unique_image_data, groups)\n",
    "segmentation.do_segmentation()\n",
    "centers, assignation_matrix = segmentation.get_results()\n",
    "\n",
    "image_size = (232, 258)\n",
    "image_converter.save_image(image_size, image_data_list, unique_image_data, assignation_matrix, centers, \"../images/segmented.png\")"
   ]
  },
  {
   "cell_type": "markdown",
   "metadata": {},
   "source": [
    "The centers represents the values in RGB:"
   ]
  },
  {
   "cell_type": "code",
   "execution_count": 6,
   "metadata": {},
   "outputs": [
    {
     "data": {
      "text/plain": [
       "[array([0.26139038, 0.47568629, 0.667451  ]),\n",
       " array([0.87113726, 0.73003923, 0.15733334]),\n",
       " array([0.80526962, 0.8572304 , 0.92075164])]"
      ]
     },
     "execution_count": 6,
     "metadata": {},
     "output_type": "execute_result"
    }
   ],
   "source": [
    "centers"
   ]
  },
  {
   "cell_type": "markdown",
   "metadata": {},
   "source": [
    "We can easily draw the three-dimensional feature space with all unique colors drawn as points, and centers as black squares."
   ]
  },
  {
   "cell_type": "code",
   "execution_count": 7,
   "metadata": {},
   "outputs": [
    {
     "data": {
      "text/plain": [
       "<Figure size 640x480 with 0 Axes>"
      ]
     },
     "metadata": {},
     "output_type": "display_data"
    }
   ],
   "source": [
    "%matplotlib inline\n",
    "\n",
    "fig = pyplot.figure()\n",
    "ax = Axes3D(fig)\n",
    "#ax.set_aspect(\"equal\")\n",
    "x_centers = [item[0] for item in centers]\n",
    "y_centers = [item[1] for item in centers]\n",
    "z_centers = [item[2] for item in centers]\n",
    "\n",
    "x_values = [item[0] for item in unique_image_data]\n",
    "y_values = [item[1] for item in unique_image_data]\n",
    "z_values = [item[2] for item in unique_image_data]\n",
    "ax.scatter(x_values, y_values, z_values, c=numpy.array(unique_image_data),alpha=0.5)\n",
    "\n",
    "ax.scatter(x_centers, y_centers, z_centers, c='black',marker='s',alpha=1)\n",
    "\n",
    "ax.set_xlabel('R')\n",
    "ax.set_ylabel('G')\n",
    "ax.set_zlabel('B')\n",
    "\n",
    "pyplot.show()"
   ]
  },
  {
   "cell_type": "markdown",
   "metadata": {},
   "source": [
    "The converted image is given as below. We see that there are only three colors in the image."
   ]
  },
  {
   "cell_type": "code",
   "execution_count": 8,
   "metadata": {},
   "outputs": [
    {
     "data": {
      "image/png": "[encoded data removed]",
      "text/plain": [
       "<IPython.core.display.Image object>"
      ]
     },
     "execution_count": 8,
     "metadata": {},
     "output_type": "execute_result"
    }
   ],
   "source": [
    "from IPython.display import Image\n",
    "Image(\"../images/segmented.png\")"
   ]
  },
  {
   "cell_type": "code",
   "execution_count": null,
   "metadata": {},
   "outputs": [],
   "source": []
  }
 ],
 "metadata": {
  "kernelspec": {
   "display_name": "Python 3",
   "language": "python",
   "name": "python3"
  },
  "language_info": {
   "codemirror_mode": {
    "name": "ipython",
    "version": 3
   },
   "file_extension": ".py",
   "mimetype": "text/x-python",
   "name": "python",
   "nbconvert_exporter": "python",
   "pygments_lexer": "ipython3",
   "version": "3.12.1"
  }
 },
 "nbformat": 4,
 "nbformat_minor": 4
}
