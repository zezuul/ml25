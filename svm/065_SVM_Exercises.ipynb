{
 "cells": [
  {
   "cell_type": "markdown",
   "metadata": {},
   "source": [
    "# Exercises\n",
    "\n",
    "In this section we have two exercises:\n",
    "1. Implement the polynomial kernel.\n",
    "2. Implement the multiclass C-SVM."
   ]
  },
  {
   "cell_type": "markdown",
   "metadata": {},
   "source": [
    "## Polynomial kernel\n",
    "\n",
    "You need to extend the ``build_kernel`` function and implement the polynomial kernel if the ``kernel_type`` is set to 'poly'. The equation that needs to be implemented:\n",
    "\\begin{equation}\n",
    "K=(X^{T}*Y)^{d}.\n",
    "\\end{equation}"
   ]
  },
  {
   "cell_type": "code",
   "execution_count": 4,
   "metadata": {},
   "outputs": [],
   "source": [
    "from sklearn.datasets import load_iris\n",
    "import numpy as np\n",
    "import cvxopt\n",
    "from sklearn.model_selection import train_test_split\n",
    "from sklearn.metrics import accuracy_score\n",
    "from itertools import combinations"
   ]
  },
  {
   "cell_type": "code",
   "execution_count": 11,
   "metadata": {},
   "outputs": [],
   "source": [
    "def build_kernel(data_set, kernel_type='linear', degree=3):\n",
    "    kernel = np.dot(data_set, data_set.T)\n",
    "    if kernel_type == 'rbf':\n",
    "        sigma = 1.0\n",
    "        objects_count = len(data_set)\n",
    "        b = np.ones((len(data_set), 1))\n",
    "        kernel -= 0.5 * (np.dot((np.diag(kernel)*np.ones((1, objects_count))).T, b.T)\n",
    "                         + np.dot(b, (np.diag(kernel) * np.ones((1, objects_count))).T.T))\n",
    "        kernel = np.exp(kernel / (2. * sigma ** 2))\n",
    "    elif kernel_type == 'poly':\n",
    "        kernel = (np.dot(data_set, data_set.T)) ** degree\n",
    "    return kernel"
   ]
  },
  {
   "cell_type": "markdown",
   "metadata": {},
   "source": [
    "## Implement a multiclass C-SVM\n",
    "\n",
    "Use the classification method that we used in notebook 7.3 and IRIS dataset to build a multiclass C-SVM classifier. Most implementation is about a function that will return the proper data set that need to be used for the prediction. You need to implement:\n",
    "- ``choose_set_for_label``\n",
    "- ``get_labels_count``"
   ]
  },
  {
   "cell_type": "code",
   "execution_count": 12,
   "metadata": {},
   "outputs": [],
   "source": [
    "def choose_set_for_label(data_set, labels, target_classes):\n",
    "    filtered_data = []\n",
    "    filtered_labels = []\n",
    "\n",
    "    for i in range(len(labels)):\n",
    "        if labels[i] in target_classes:\n",
    "            filtered_data.append(data_set[i])\n",
    "            new_label = -1 if labels[i] == target_classes[0] else 1\n",
    "            filtered_labels.append(new_label)\n",
    "    \n",
    "    return np.array(filtered_data), np.array(filtered_labels)"
   ]
  },
  {
   "cell_type": "code",
   "execution_count": 13,
   "metadata": {},
   "outputs": [],
   "source": [
    "def get_labels_count(data_set):\n",
    "    return len(np.unique(labels))"
   ]
  },
  {
   "cell_type": "code",
   "execution_count": 14,
   "metadata": {},
   "outputs": [],
   "source": [
    "#Use the code that we have implemented earlier:"
   ]
  },
  {
   "cell_type": "code",
   "execution_count": 15,
   "metadata": {},
   "outputs": [],
   "source": [
    "def train(train_data_set, train_labels, kernel_type='linear', C=10, threshold=1e-5):\n",
    "    kernel = build_kernel(train_data_set, kernel_type=kernel_type)\n",
    "    objects_count = len(train_data_set)\n",
    "\n",
    "    P = train_labels * train_labels.transpose() * kernel\n",
    "    q = -np.ones((objects_count, 1))\n",
    "    G = np.concatenate((np.eye(objects_count), -np.eye(objects_count)))\n",
    "    h = np.concatenate((C * np.ones((objects_count, 1)), np.zeros((objects_count, 1))))\n",
    "\n",
    "    A = train_labels.reshape(1, objects_count)\n",
    "    A = A.astype(float)\n",
    "    b = 0.0\n",
    "\n",
    "    sol = cvxopt.solvers.qp(cvxopt.matrix(P), cvxopt.matrix(q), cvxopt.matrix(G), cvxopt.matrix(h), cvxopt.matrix(A), cvxopt.matrix(b))\n",
    "\n",
    "    lambdas = np.array(sol['x'])\n",
    "\n",
    "    support_vectors_id = np.where(lambdas > threshold)[0]\n",
    "    vector_number = len(support_vectors_id)\n",
    "    support_vectors = train_data_set[support_vectors_id, :]\n",
    "\n",
    "    lambdas = lambdas[support_vectors_id]\n",
    "    targets = train_labels[support_vectors_id]\n",
    "\n",
    "    b = np.sum(targets)\n",
    "    for n in range(vector_number):\n",
    "        b -= np.sum(lambdas * targets * np.reshape(kernel[support_vectors_id[n], support_vectors_id], (vector_number, 1)))\n",
    "    b /= len(lambdas)\n",
    "\n",
    "    return lambdas, support_vectors, support_vectors_id, b, targets, vector_number\n",
    "\n",
    "def build_kernel(data_set, kernel_type='linear'):\n",
    "    kernel = np.dot(data_set, data_set.T)\n",
    "    if kernel_type == 'rbf':\n",
    "        sigma = 1.0\n",
    "        objects_count = len(data_set)\n",
    "        b = np.ones((len(data_set), 1))\n",
    "        kernel -= 0.5 * (np.dot((np.diag(kernel)*np.ones((1, objects_count))).T, b.T)\n",
    "                         + np.dot(b, (np.diag(kernel) * np.ones((1, objects_count))).T.T))\n",
    "        kernel = np.exp(kernel / (2. * sigma ** 2))\n",
    "    return kernel\n",
    "\n",
    "def classify_rbf(test_data_set, train_data_set, lambdas, targets, b, vector_number, support_vectors, support_vectors_id):\n",
    "    kernel = np.dot(test_data_set, support_vectors.T)\n",
    "    sigma = 1.0\n",
    "\n",
    "    c = (1. / sigma * np.sum(test_data_set ** 2, axis=1) * np.ones((1, np.shape(test_data_set)[0]))).T\n",
    "    c = np.dot(c, np.ones((1, np.shape(kernel)[1])))\n",
    "\n",
    "    sv = (np.diag(np.dot(train_data_set, train_data_set.T))*np.ones((1,len(train_data_set)))).T[support_vectors_id]\n",
    "    aa = np.dot(sv,np.ones((1,np.shape(kernel)[0]))).T\n",
    "    kernel = kernel - 0.5 * c - 0.5 * aa\n",
    "    kernel = np.exp(kernel / (2. * sigma ** 2))\n",
    "\n",
    "    y = np.zeros((np.shape(test_data_set)[0], 1))\n",
    "    for j in range(np.shape(test_data_set)[0]):\n",
    "        for i in range(vector_number):\n",
    "            y[j] += lambdas[i] * targets[i] * kernel[j, i]\n",
    "        y[j] += b\n",
    "    return np.sign(y)"
   ]
  },
  {
   "cell_type": "code",
   "execution_count": 16,
   "metadata": {},
   "outputs": [
    {
     "name": "stdout",
     "output_type": "stream",
     "text": [
      "     pcost       dcost       gap    pres   dres\n",
      " 0:  9.3952e+01 -1.0644e+03  2e+03  1e-01  2e-15\n",
      " 1:  5.2616e+01 -1.0884e+02  2e+02  5e-03  2e-15\n",
      " 2:  6.0747e+00 -1.5051e+01  2e+01  4e-16  2e-15\n",
      " 3: -6.3440e-01 -3.5187e+00  3e+00  2e-16  8e-16\n",
      " 4: -1.1856e+00 -1.8785e+00  7e-01  2e-16  3e-16\n",
      " 5: -1.3802e+00 -1.6346e+00  3e-01  2e-16  3e-16\n",
      " 6: -1.4683e+00 -1.5426e+00  7e-02  2e-16  2e-16\n",
      " 7: -1.5057e+00 -1.5175e+00  1e-02  2e-16  3e-16\n",
      " 8: -1.5105e+00 -1.5106e+00  2e-04  3e-16  3e-16\n",
      " 9: -1.5105e+00 -1.5105e+00  2e-06  3e-16  3e-16\n",
      "10: -1.5105e+00 -1.5105e+00  2e-08  2e-16  3e-16\n",
      "Optimal solution found.\n",
      "     pcost       dcost       gap    pres   dres\n",
      " 0:  1.0717e+02 -1.1805e+03  2e+03  1e-01  2e-15\n",
      " 1:  5.8539e+01 -1.2186e+02  2e+02  6e-03  2e-15\n",
      " 2:  6.6343e+00 -1.6989e+01  2e+01  2e-16  2e-15\n",
      " 3: -8.2076e-01 -4.0211e+00  3e+00  2e-16  7e-16\n",
      " 4: -1.4534e+00 -2.3231e+00  9e-01  2e-16  3e-16\n",
      " 5: -1.7567e+00 -2.0051e+00  2e-01  2e-16  3e-16\n",
      " 6: -1.8034e+00 -1.8844e+00  8e-02  4e-16  2e-16\n",
      " 7: -1.8282e+00 -1.8496e+00  2e-02  2e-16  3e-16\n",
      " 8: -1.8353e+00 -1.8388e+00  4e-03  3e-16  3e-16\n",
      " 9: -1.8365e+00 -1.8366e+00  8e-05  4e-16  3e-16\n",
      "10: -1.8366e+00 -1.8366e+00  2e-06  4e-16  3e-16\n",
      "Optimal solution found.\n",
      "     pcost       dcost       gap    pres   dres\n",
      " 0:  8.2438e+01 -1.1695e+03  2e+03  2e-01  2e-15\n",
      " 1:  5.2580e+01 -1.0930e+02  2e+02  5e-03  2e-15\n",
      " 2:  6.4272e+00 -1.4920e+01  2e+01  5e-16  2e-15\n",
      " 3: -4.8971e-01 -3.4113e+00  3e+00  2e-16  1e-15\n",
      " 4: -1.1235e+00 -1.6575e+00  5e-01  2e-16  3e-16\n",
      " 5: -1.2366e+00 -1.4244e+00  2e-01  2e-16  2e-16\n",
      " 6: -1.2963e+00 -1.3899e+00  9e-02  2e-16  2e-16\n",
      " 7: -1.3299e+00 -1.3422e+00  1e-02  2e-16  3e-16\n",
      " 8: -1.3338e+00 -1.3361e+00  2e-03  2e-16  2e-16\n",
      " 9: -1.3347e+00 -1.3349e+00  2e-04  4e-16  3e-16\n",
      "10: -1.3348e+00 -1.3348e+00  3e-06  2e-16  3e-16\n",
      "11: -1.3348e+00 -1.3348e+00  3e-08  4e-16  3e-16\n",
      "Optimal solution found.\n",
      "0.6444444444444445\n"
     ]
    }
   ],
   "source": [
    "iris = load_iris()\n",
    "data_set = iris.data\n",
    "labels = iris.target\n",
    "\n",
    "train_data_set, test_data_set, train_labels, test_labels = train_test_split(\n",
    "    data_set, labels, test_size=0.3, random_state=1\n",
    ")\n",
    "\n",
    "label_combinations = list(combinations(range(get_labels_count(labels)), 2))\n",
    "predictions = []\n",
    "\n",
    "for combo in label_combinations:\n",
    "    train_data, binary_labels = choose_set_for_label(train_data_set, train_labels, combo)\n",
    "\n",
    "    lambdas, support_vectors, support_vectors_id, b, targets, vector_number = train(\n",
    "        train_data, binary_labels, kernel_type='rbf'\n",
    "    )\n",
    "\n",
    "    pred = classify_rbf(test_data_set, train_data, lambdas, targets, b, vector_number, support_vectors, support_vectors_id)\n",
    "    pred = np.where(pred == -1, combo[0], combo[1]) \n",
    "\n",
    "    predictions.append(pred.flatten())\n",
    "\n",
    "predictions = np.array(predictions)\n",
    "final_predictions = [np.argmax(np.bincount(predictions[:, i])) for i in range(len(test_data_set))]\n",
    "\n",
    "print(accuracy_score(final_predictions, test_labels))"
   ]
  },
  {
   "cell_type": "code",
   "execution_count": null,
   "metadata": {},
   "outputs": [],
   "source": []
  }
 ],
 "metadata": {
  "kernelspec": {
   "display_name": "Python 3",
   "language": "python",
   "name": "python3"
  },
  "language_info": {
   "codemirror_mode": {
    "name": "ipython",
    "version": 3
   },
   "file_extension": ".py",
   "mimetype": "text/x-python",
   "name": "python",
   "nbconvert_exporter": "python",
   "pygments_lexer": "ipython3",
   "version": "3.12.1"
  }
 },
 "nbformat": 4,
 "nbformat_minor": 4
}
